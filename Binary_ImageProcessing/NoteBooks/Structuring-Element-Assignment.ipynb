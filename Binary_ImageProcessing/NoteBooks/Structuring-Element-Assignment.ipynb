{
    "cells": [
        {
            "cell_type": "markdown",
            "metadata": {},
            "source": [
                "# <font style = \"color:rgb(50,120,229)\">Implementation of Morphological Operations</font>\n",
                "We had discussed how to use dilation and erosion operations in the previous section. In this section, we will see what is going on under the hood. The most important concept that you need to understand is the Structuring element. We will discuss about the structuring element and how it is used for performing these morphological operations."
            ]
        },
        {
            "cell_type": "markdown",
            "metadata": {},
            "source": [
                "## <font style=\"color:rgb(50,120,229)\">Implement Method 2</font>\n",
                "1. Scan through the image and superimpose the kernel on the neighborhood of each pixel. \n",
                "1. Perform an AND operation of the neighborhood with the kernel.\n",
                "1. Replace the pixel value with the `maximum` value in the neighborhood given by the kernel. \n",
                "\n",
                "This means that you check every pixel and its neighborhood with respect to the kernel and change the pixel to white if any of the pixel in this neighborhood is white. OpenCV implements an optimized version of this method. This will work even if the image is not a binary image."
            ]
        },
        {
            "cell_type": "markdown",
            "metadata": {},
            "source": [
                "## <font style=\"color:rgb(50,120,229)\">Import Libraries </font>"
            ]
        },
        {
            "cell_type": "code",
            "execution_count": 1,
            "metadata": {
                "collapsed": true
            },
            "outputs": [],
            "source": [
                "import cv2\n",
                "import numpy as np\n",
                "from dataPath import DATA_PATH\n",
                "import matplotlib.pyplot as plt\n",
                "%matplotlib inline"
            ]
        },
        {
            "cell_type": "code",
            "execution_count": 2,
            "metadata": {
                "collapsed": true
            },
            "outputs": [],
            "source": [
                "import matplotlib\n",
                "matplotlib.rcParams['figure.figsize'] = (6.0, 6.0)\n",
                "matplotlib.rcParams['image.cmap'] = 'gray'"
            ]
        },
        {
            "cell_type": "markdown",
            "metadata": {},
            "source": [
                "# <font style=\"color:rgb(50,120,229)\">Create a Demo Image</font>\n",
                "## <font style=\"color:rgb(50,120,229)\">Create an empty matrix </font>"
            ]
        },
        {
            "cell_type": "code",
            "execution_count": 3,
            "metadata": {
                "collapsed": true
            },
            "outputs": [
                {
                    "name": "stdout",
                    "output_type": "stream",
                    "text": [
                        "[[0 0 0 0 0 0 0 0 0 0]\n",
                        " [0 0 0 0 0 0 0 0 0 0]\n",
                        " [0 0 0 0 0 0 0 0 0 0]\n",
                        " [0 0 0 0 0 0 0 0 0 0]\n",
                        " [0 0 0 0 0 0 0 0 0 0]\n",
                        " [0 0 0 0 0 0 0 0 0 0]\n",
                        " [0 0 0 0 0 0 0 0 0 0]\n",
                        " [0 0 0 0 0 0 0 0 0 0]\n",
                        " [0 0 0 0 0 0 0 0 0 0]\n",
                        " [0 0 0 0 0 0 0 0 0 0]]\n"
                    ]
                },
                {
                    "data": {
                        "text/plain": [
                            "<matplotlib.image.AxesImage at 0x16cce5b5410>"
                        ]
                    },
                    "execution_count": 3,
                    "metadata": {},
                    "output_type": "execute_result"
                },
                {
                    "data": {
                        "image/png": "[encoded data removed]",
                        "text/plain": [
                            "<Figure size 600x600 with 1 Axes>"
                        ]
                    },
                    "metadata": {},
                    "output_type": "display_data"
                }
            ],
            "source": [
                "im = np.zeros((10,10),dtype='uint8')\n",
                "print(im);\n",
                "plt.imshow(im)"
            ]
        },
        {
            "cell_type": "markdown",
            "metadata": {},
            "source": [
                "## <font style=\"color:rgb(50,120,229)\">Lets add some white blobs</font>\n",
                "\n",
                "We have added the blobs at different places so that all boundary cases are covered in this example."
            ]
        },
        {
            "cell_type": "code",
            "execution_count": 4,
            "metadata": {
                "collapsed": true
            },
            "outputs": [
                {
                    "name": "stdout",
                    "output_type": "stream",
                    "text": [
                        "[[0 1 0 0 0 0 0 0 0 0]\n",
                        " [0 0 0 0 0 0 0 0 0 0]\n",
                        " [0 0 1 0 0 0 0 0 0 0]\n",
                        " [0 0 0 0 0 0 0 0 0 0]\n",
                        " [0 0 0 0 0 0 0 0 0 0]\n",
                        " [0 0 0 0 0 1 1 1 0 0]\n",
                        " [0 0 0 0 0 1 1 1 0 0]\n",
                        " [0 0 0 0 0 1 1 1 0 0]\n",
                        " [0 0 0 0 0 0 0 0 0 1]\n",
                        " [1 0 0 0 0 0 0 0 0 0]]\n"
                    ]
                },
                {
                    "data": {
                        "text/plain": [
                            "<matplotlib.image.AxesImage at 0x16cd0a35bd0>"
                        ]
                    },
                    "execution_count": 4,
                    "metadata": {},
                    "output_type": "execute_result"
                },
                {
                    "data": {
                        "image/png": "[encoded data removed]",
                        "text/plain": [
                            "<Figure size 600x600 with 1 Axes>"
                        ]
                    },
                    "metadata": {},
                    "output_type": "display_data"
                }
            ],
            "source": [
                "im[0,1] = 1\n",
                "im[-1,0]= 1\n",
                "im[-2,-1]=1\n",
                "im[2,2] = 1\n",
                "im[5:8,5:8] = 1\n",
                "\n",
                "print(im)\n",
                "plt.imshow(im)"
            ]
        },
        {
            "cell_type": "markdown",
            "metadata": {},
            "source": [
                "This becomes our demo Image for illustration purpose"
            ]
        },
        {
            "cell_type": "markdown",
            "metadata": {},
            "source": [
                "## <font style=\"color:rgb(50,120,229)\">Create an Ellipse Structuring Element </font>\n",
                "Let us create a 3x3 ellipse structuring element."
            ]
        },
        {
            "cell_type": "code",
            "execution_count": 5,
            "metadata": {
                "collapsed": true
            },
            "outputs": [
                {
                    "name": "stdout",
                    "output_type": "stream",
                    "text": [
                        "[[0 1 0]\n",
                        " [1 1 1]\n",
                        " [0 1 0]]\n"
                    ]
                }
            ],
            "source": [
                "element = cv2.getStructuringElement(cv2.MORPH_ELLIPSE, (3,3))\n",
                "print(element)"
            ]
        },
        {
            "cell_type": "code",
            "execution_count": 6,
            "metadata": {
                "collapsed": true
            },
            "outputs": [],
            "source": [
                "ksize = element.shape[0]"
            ]
        },
        {
            "cell_type": "code",
            "execution_count": 8,
            "metadata": {
                "collapsed": true
            },
            "outputs": [
                {
                    "data": {
                        "text/plain": [
                            "(10, 10)"
                        ]
                    },
                    "execution_count": 8,
                    "metadata": {},
                    "output_type": "execute_result"
                }
            ],
            "source": [
                "height,width = im.shape[:2]\n",
                "height,width "
            ]
        },
        {
            "cell_type": "markdown",
            "metadata": {},
            "source": [
                "## <font style=\"color:rgb(50,120,229)\">First check the correct output using cv2.dilate</font>"
            ]
        },
        {
            "cell_type": "code",
            "execution_count": 9,
            "metadata": {
                "collapsed": true,
                "scrolled": false
            },
            "outputs": [
                {
                    "name": "stdout",
                    "output_type": "stream",
                    "text": [
                        "[[1 1 1 0 0 0 0 0 0 0]\n",
                        " [0 1 1 0 0 0 0 0 0 0]\n",
                        " [0 1 1 1 0 0 0 0 0 0]\n",
                        " [0 0 1 0 0 0 0 0 0 0]\n",
                        " [0 0 0 0 0 1 1 1 0 0]\n",
                        " [0 0 0 0 1 1 1 1 1 0]\n",
                        " [0 0 0 0 1 1 1 1 1 0]\n",
                        " [0 0 0 0 1 1 1 1 1 1]\n",
                        " [1 0 0 0 0 1 1 1 1 1]\n",
                        " [1 1 0 0 0 0 0 0 0 1]]\n"
                    ]
                },
                {
                    "data": {
                        "text/plain": [
                            "<matplotlib.image.AxesImage at 0x16cd0ad0e90>"
                        ]
                    },
                    "execution_count": 9,
                    "metadata": {},
                    "output_type": "execute_result"
                },
                {
                    "data": {
                        "image/png": "[encoded data removed]",
                        "text/plain": [
                            "<Figure size 600x600 with 1 Axes>"
                        ]
                    },
                    "metadata": {},
                    "output_type": "display_data"
                }
            ],
            "source": [
                "dilatedEllipseKernel = cv2.dilate(im, element)\n",
                "print(dilatedEllipseKernel)\n",
                "plt.imshow(dilatedEllipseKernel)"
            ]
        },
        {
            "cell_type": "markdown",
            "metadata": {},
            "source": [
                "## <font style=\"color:rgb(50,120,229)\">Write Code for Dilation from scratch</font>\n",
                "\n",
                "Create a VideoWriter object and write the result obtained at the end of each iteration to the object. Save the video to **`dilationScratch.avi`** and display it using markdown below:\n",
                "\n",
                "**`dilationScratch.avi` will come here**\n",
                "\n",
                "```<video width=\"320\" height=\"240\" controls>\n",
                "  <source src=\"dilationScratch.avi\" type=\"video/mp4\">\n",
                "</video>```\n",
                "\n",
                "**Note**\n",
                "\n",
                "1. Use FPS as 10 and frame size as 50x50\n",
                "2. Before writing the frame, resize it to 50x50\n",
                "3. Convert the resized frame to BGR\n",
                "4. Release the object"
            ]
        },
        {
            "cell_type": "code",
            "execution_count": 43,
            "metadata": {},
            "outputs": [
                {
                    "data": {
                        "text/plain": [
                            "3"
                        ]
                    },
                    "execution_count": 43,
                    "metadata": {},
                    "output_type": "execute_result"
                }
            ],
            "source": [
                "ksize"
            ]
        },
        {
            "cell_type": "code",
            "execution_count": 42,
            "metadata": {},
            "outputs": [
                {
                    "name": "stdout",
                    "output_type": "stream",
                    "text": [
                        "(12, 12)\n"
                    ]
                },
                {
                    "data": {
                        "text/plain": [
                            "<matplotlib.image.AxesImage at 0x16cd1e2ce10>"
                        ]
                    },
                    "execution_count": 42,
                    "metadata": {},
                    "output_type": "execute_result"
                },
                {
                    "data": {
                        "image/png": "[encoded data removed]",
                        "text/plain": [
                            "<Figure size 600x600 with 1 Axes>"
                        ]
                    },
                    "metadata": {},
                    "output_type": "display_data"
                }
            ],
            "source": [
                "border = ksize//2\n",
                "# paddedIm = np.zeros((height + border*2, width + border*2))\n",
                "paddedIm = np.zeros((height , width))\n",
                "paddedIm = cv2.copyMakeBorder(im, border, border, border, border, cv2.BORDER_CONSTANT, value = 0)\n",
                "paddedDilatedIm = paddedIm.copy()\n",
                "print(paddedDilatedIm.shape)\n",
                "plt.imshow(paddedDilatedIm)\n"
            ]
        },
        {
            "cell_type": "code",
            "execution_count": 40,
            "metadata": {},
            "outputs": [
                {
                    "data": {
                        "text/plain": [
                            "<matplotlib.image.AxesImage at 0x16cd1b7af50>"
                        ]
                    },
                    "execution_count": 40,
                    "metadata": {},
                    "output_type": "execute_result"
                },
                {
                    "data": {
                        "image/png": "[encoded data removed]",
                        "text/plain": [
                            "<Figure size 600x600 with 1 Axes>"
                        ]
                    },
                    "metadata": {},
                    "output_type": "display_data"
                }
            ],
            "source": [
                "plt.imshow(paddedDilatedIm[:10, :10])"
            ]
        },
        {
            "cell_type": "code",
            "execution_count": 41,
            "metadata": {},
            "outputs": [
                {
                    "name": "stdout",
                    "output_type": "stream",
                    "text": [
                        "(10, 10)\n"
                    ]
                },
                {
                    "data": {
                        "text/plain": [
                            "<matplotlib.image.AxesImage at 0x16cd1dc2610>"
                        ]
                    },
                    "execution_count": 41,
                    "metadata": {},
                    "output_type": "execute_result"
                },
                {
                    "data": {
                        "image/png": "[encoded data removed]",
                        "text/plain": [
                            "<Figure size 600x600 with 1 Axes>"
                        ]
                    },
                    "metadata": {},
                    "output_type": "display_data"
                }
            ],
            "source": [
                "paddedDilatedIm = np.zeros_like(im)\n",
                "print(paddedDilatedIm.shape)\n",
                "plt.imshow(paddedDilatedIm)\n"
            ]
        },
        {
            "cell_type": "code",
            "execution_count": 44,
            "metadata": {},
            "outputs": [
                {
                    "data": {
                        "text/plain": [
                            "12"
                        ]
                    },
                    "execution_count": 44,
                    "metadata": {},
                    "output_type": "execute_result"
                }
            ],
            "source": [
                "height + border*2"
            ]
        },
        {
            "cell_type": "code",
            "execution_count": 46,
            "metadata": {
                "collapsed": true,
                "scrolled": true
            },
            "outputs": [],
            "source": [
                "border = ksize//2\n",
                "paddedIm = np.zeros((height + border*2, width + border*2))\n",
                "paddedIm = cv2.copyMakeBorder(im, border, border, border, border, cv2.BORDER_CONSTANT, value = 0)\n",
                "paddedDilatedIm = paddedIm.copy()\n",
                "# Create an output image with the same shape as 'im'\n",
                "# paddedDilatedIm = np.zeros_like(im)\n",
                "\n",
                "# Create a VideoWriter object\n",
                "# Use frame size as 50x50\n",
                "###\n",
                "fourcc = cv2.VideoWriter_fourcc(*'XVID')\n",
                "out = cv2.VideoWriter(filename = 'dilationScratch.avi', fourcc = fourcc, fps = 10, frameSize = (50,50))\n",
                "###\n",
                "\n",
                "for h_i in range(border, height+border):\n",
                "    for w_i in range(border,width+border):\n",
                "        ###\n",
                "        # Superimpose the kernel on the neighborhood\n",
                "        neighborhood = paddedIm[h_i - border : (h_i + border) + 1, w_i - border : (w_i + border) + 1]\n",
                "\n",
                "        # Perform AND operation with the kernel\n",
                "        result = cv2.bitwise_and(neighborhood, element)\n",
                "        ###\n",
                "\n",
                "        # Replace the pixel value with the maximum value in the neighborhood\n",
                "        paddedDilatedIm[h_i - border, w_i - border] = np.max(result)\n",
                "\n",
                "\n",
                "        # Resizing output to 50x50 before writing it to the video\n",
                "        ###\n",
                "        resized_frame = cv2.resize(paddedDilatedIm[:10, :10], (50, 50),  interpolation=cv2.INTER_NEAREST)\n",
                "        ###\n",
                "        # Convert resizedFrame to BGR before writing\n",
                "        ###\n",
                "        resized_frame_bgr = cv2.cvtColor((resized_frame * 255).astype(np.uint8), cv2.COLOR_GRAY2BGR)\n",
                "        ###\n",
                "        # Writing the frame to the video\n",
                "        out.write(resized_frame_bgr)\n",
                "\n",
                "# Release the VideoWriter object\n",
                "###\n",
                "out.release()\n",
                "###\n"
            ]
        },
        {
            "cell_type": "code",
            "execution_count": 47,
            "metadata": {
                "collapsed": true
            },
            "outputs": [
                {
                    "data": {
                        "text/plain": [
                            "<matplotlib.image.AxesImage at 0x16cd1cac3d0>"
                        ]
                    },
                    "execution_count": 47,
                    "metadata": {},
                    "output_type": "execute_result"
                },
                {
                    "data": {
                        "image/png": "[encoded data removed]",
                        "text/plain": [
                            "<Figure size 600x600 with 1 Axes>"
                        ]
                    },
                    "metadata": {},
                    "output_type": "display_data"
                }
            ],
            "source": [
                "# Display final image (cropped)\n",
                "###\n",
                "plt.imshow(resized_frame_bgr)\n",
                "\n",
                "###\n"
            ]
        },
        {
            "cell_type": "markdown",
            "metadata": {},
            "source": [
                "<video width=\"320\" height=\"240\" controls>\n",
                "  <source src=\"NoteBooks\\dilationScratch.avi\" type=\"video/mp4\">\n",
                "</video>"
            ]
        },
        {
            "cell_type": "markdown",
            "metadata": {},
            "source": [
                "# <font style=\"color:rgb(50,120,229)\">Implement Erosion </font>"
            ]
        },
        {
            "cell_type": "markdown",
            "metadata": {},
            "source": [
                "## <font style=\"color:rgb(50,120,229)\">Check the correct output using cv2.erode </font>"
            ]
        },
        {
            "cell_type": "code",
            "execution_count": 62,
            "metadata": {},
            "outputs": [
                {
                    "name": "stdout",
                    "output_type": "stream",
                    "text": [
                        "[[0 1 0 0 0 0 0 0 0 0]\n",
                        " [0 0 0 0 0 0 0 0 0 0]\n",
                        " [0 0 1 0 0 0 0 0 0 0]\n",
                        " [0 0 0 0 0 0 0 0 0 0]\n",
                        " [0 0 0 0 0 0 0 0 0 0]\n",
                        " [0 0 0 0 0 1 1 1 0 0]\n",
                        " [0 0 0 0 0 1 1 1 0 0]\n",
                        " [0 0 0 0 0 1 1 1 0 0]\n",
                        " [0 0 0 0 0 0 0 0 0 1]\n",
                        " [1 0 0 0 0 0 0 0 0 0]]\n"
                    ]
                },
                {
                    "data": {
                        "text/plain": [
                            "<matplotlib.image.AxesImage at 0x16cd3950690>"
                        ]
                    },
                    "execution_count": 62,
                    "metadata": {},
                    "output_type": "execute_result"
                },
                {
                    "data": {
                        "image/png": "[encoded data removed]",
                        "text/plain": [
                            "<Figure size 600x600 with 1 Axes>"
                        ]
                    },
                    "metadata": {},
                    "output_type": "display_data"
                }
            ],
            "source": [
                "print(im)\n",
                "plt.imshow(im)"
            ]
        },
        {
            "cell_type": "code",
            "execution_count": 52,
            "metadata": {},
            "outputs": [
                {
                    "data": {
                        "text/plain": [
                            "<matplotlib.image.AxesImage at 0x16cd37b2f50>"
                        ]
                    },
                    "execution_count": 52,
                    "metadata": {},
                    "output_type": "execute_result"
                },
                {
                    "data": {
                        "image/png": "[encoded data removed]",
                        "text/plain": [
                            "<Figure size 600x600 with 1 Axes>"
                        ]
                    },
                    "metadata": {},
                    "output_type": "display_data"
                }
            ],
            "source": [
                "plt.imshow(element)"
            ]
        },
        {
            "cell_type": "code",
            "execution_count": 49,
            "metadata": {
                "collapsed": true,
                "scrolled": false
            },
            "outputs": [
                {
                    "name": "stdout",
                    "output_type": "stream",
                    "text": [
                        "[[0 0 0 0 0 0 0 0 0 0]\n",
                        " [0 0 0 0 0 0 0 0 0 0]\n",
                        " [0 0 0 0 0 0 0 0 0 0]\n",
                        " [0 0 0 0 0 0 0 0 0 0]\n",
                        " [0 0 0 0 0 0 0 0 0 0]\n",
                        " [0 0 0 0 0 0 0 0 0 0]\n",
                        " [0 0 0 0 0 0 1 0 0 0]\n",
                        " [0 0 0 0 0 0 0 0 0 0]\n",
                        " [0 0 0 0 0 0 0 0 0 0]\n",
                        " [0 0 0 0 0 0 0 0 0 0]]\n"
                    ]
                },
                {
                    "data": {
                        "image/png": "[encoded data removed]",
                        "text/plain": [
                            "<Figure size 600x600 with 1 Axes>"
                        ]
                    },
                    "metadata": {},
                    "output_type": "display_data"
                }
            ],
            "source": [
                "ErodedEllipseKernel = cv2.erode(im, element)\n",
                "print(ErodedEllipseKernel)\n",
                "plt.imshow(ErodedEllipseKernel);"
            ]
        },
        {
            "cell_type": "markdown",
            "metadata": {},
            "source": [
                "## <font style=\"color:rgb(50,120,229)\">Write code for Erosion from scratch</font>\n",
                "\n",
                "Create a VideoWriter object and write the result obtained at the end of each iteration to the object. Save the video to **`erosionScratch.avi`** and display it using markdown below:\n",
                "\n",
                "**`erosionScratch.avi` will come here**\n",
                "\n",
                "<video width=\"320\" height=\"240\" controls>\n",
                "  <source src=\"G:\\OpenCV\\Fundamentals of CV and IP\\week3\\NoteBooks\\erosionScratch.avi\" type=\"video/mp4\">\n",
                "</video>\n",
                "\n",
                "**Note**\n",
                "\n",
                "1. Use FPS as 10 and frame size as 50x50\n",
                "2. Before writing the frame, resize it to 50x50\n",
                "3. Convert the resized frame to BGR\n",
                "4. Release the object"
            ]
        },
        {
            "cell_type": "code",
            "execution_count": 65,
            "metadata": {},
            "outputs": [
                {
                    "data": {
                        "text/plain": [
                            "<matplotlib.image.AxesImage at 0x16cd3a9d550>"
                        ]
                    },
                    "execution_count": 65,
                    "metadata": {},
                    "output_type": "execute_result"
                },
                {
                    "data": {
                        "image/png": "[encoded data removed]",
                        "text/plain": [
                            "<Figure size 600x600 with 1 Axes>"
                        ]
                    },
                    "metadata": {},
                    "output_type": "display_data"
                }
            ],
            "source": [
                "border = ksize//2\n",
                "paddedIm = np.zeros((height + border*2, width + border*2))\n",
                "paddedIm = cv2.copyMakeBorder(im, border, border, border, border, cv2.BORDER_CONSTANT, value = 1)\n",
                "paddedErodedIm = paddedIm.copy()\n",
                "plt.imshow(paddedIm)"
            ]
        },
        {
            "cell_type": "code",
            "execution_count": 66,
            "metadata": {},
            "outputs": [
                {
                    "data": {
                        "text/plain": [
                            "<matplotlib.image.AxesImage at 0x16cd3ad0690>"
                        ]
                    },
                    "execution_count": 66,
                    "metadata": {},
                    "output_type": "execute_result"
                },
                {
                    "data": {
                        "image/png": "[encoded data removed]",
                        "text/plain": [
                            "<Figure size 600x600 with 1 Axes>"
                        ]
                    },
                    "metadata": {},
                    "output_type": "display_data"
                }
            ],
            "source": [
                "plt.imshow(paddedIm)"
            ]
        },
        {
            "cell_type": "code",
            "execution_count": 67,
            "metadata": {
                "collapsed": true,
                "scrolled": true
            },
            "outputs": [],
            "source": [
                "\n",
                "# Create a VideoWriter object\n",
                "# Use frame size as 50x50\n",
                "###\n",
                "fourcc = cv2.VideoWriter_fourcc(*'XVID')\n",
                "out = cv2.VideoWriter(filename = 'erosionScratch.avi', fourcc = fourcc, fps = 10, frameSize = (50,50))\n",
                "###\n",
                "for h_i in range(border, height+border):\n",
                "    for w_i in range(border,width+border):\n",
                "        ###\n",
                "        # Superimpose the kernel on the neighborhood\n",
                "        neighborhood = paddedIm[h_i - border : (h_i + border) + 1, w_i - border : (w_i + border) + 1]\n",
                "\n",
                "        # Perform AND operation with the complement of the kernel\n",
                "        result = cv2.bitwise_or(neighborhood, 1 - element)\n",
                "\n",
                "        # Replace the pixel value with the minimum value in the neighborhood\n",
                "        paddedErodedIm[h_i - border, w_i - border] = np.min(result)\n",
                "\n",
                "        # Resizing output to 50x50 before writing it to the video\n",
                "        ###\n",
                "        resized_frame = cv2.resize(paddedErodedIm[:10, :10], (50, 50),  interpolation=cv2.INTER_NEAREST)\n",
                "        ###\n",
                "        # Convert resizedFrame to BGR before writing\n",
                "        ###\n",
                "        resized_frame_bgr = cv2.cvtColor((resized_frame * 255).astype(np.uint8), cv2.COLOR_GRAY2BGR)\n",
                "        ###\n",
                "        # Writing the frame to the video\n",
                "        out.write(resized_frame_bgr)\n",
                "\n",
                "# Release the VideoWriter object\n",
                "###\n",
                "out.release()\n",
                "###\n"
            ]
        },
        {
            "cell_type": "markdown",
            "metadata": {},
            "source": [
                "<video width=\"320\" height=\"240\" controls>\n",
                "  <source src=\"erosionScratch.avi\" type=\"video/mp4\">\n",
                "</video>"
            ]
        },
        {
            "cell_type": "code",
            "execution_count": 68,
            "metadata": {
                "collapsed": true
            },
            "outputs": [
                {
                    "data": {
                        "text/plain": [
                            "<matplotlib.image.AxesImage at 0x16cd3b88d50>"
                        ]
                    },
                    "execution_count": 68,
                    "metadata": {},
                    "output_type": "execute_result"
                },
                {
                    "data": {
                        "image/png": "[encoded data removed]",
                        "text/plain": [
                            "<Figure size 600x600 with 1 Axes>"
                        ]
                    },
                    "metadata": {},
                    "output_type": "display_data"
                }
            ],
            "source": [
                "# Display final image (cropped)\n",
                "###\n",
                "# print(resized_frame_bgr)\n",
                "plt.imshow(resized_frame_bgr)\n",
                "###\n"
            ]
        },
        {
            "cell_type": "code",
            "execution_count": null,
            "metadata": {},
            "outputs": [],
            "source": []
        }
    ],
    "metadata": {
        "kernelspec": {
            "display_name": "Python 3 [3.6]",
            "language": "python",
            "name": "python3"
        },
        "language_info": {
            "codemirror_mode": {
                "name": "ipython",
                "version": 3
            },
            "file_extension": ".py",
            "mimetype": "text/x-python",
            "name": "python",
            "nbconvert_exporter": "python",
            "pygments_lexer": "ipython3",
            "version": "3.11.7"
        }
    },
    "nbformat": 4,
    "nbformat_minor": 2
}
